{
  "nbformat": 4,
  "nbformat_minor": 0,
  "metadata": {
    "colab": {
      "name": "Copy of 01.ipynb",
      "version": "0.3.2",
      "provenance": [],
      "include_colab_link": true
    },
    "language_info": {
      "codemirror_mode": {
        "name": "ipython",
        "version": 3
      },
      "file_extension": ".py",
      "mimetype": "text/x-python",
      "name": "python",
      "nbconvert_exporter": "python",
      "pygments_lexer": "ipython3",
      "version": "3.6.7"
    },
    "kernelspec": {
      "display_name": "Python 3",
      "language": "python",
      "name": "python3"
    }
  },
  "cells": [
    {
      "cell_type": "markdown",
      "metadata": {
        "id": "view-in-github",
        "colab_type": "text"
      },
      "source": [
        "<a href=\"https://colab.research.google.com/github/joaopfgomes/PC---IMD/blob/master/01.ipynb\" target=\"_parent\"><img src=\"https://colab.research.google.com/assets/colab-badge.svg\" alt=\"Open In Colab\"/></a>"
      ]
    },
    {
      "cell_type": "markdown",
      "metadata": {
        "id": "cfj9dy9qtMyQ",
        "colab_type": "text"
      },
      "source": [
        "# Primeiros passos\n",
        "\n",
        "O interpretador Python é um cara legal que gosta de conversar, mas ele é um pouco repetitivo..\n",
        "\n",
        "Os notebooks Jupyter se comunicam com o interpretador, mandando suas mensagens e mostrando as resposta que ele dá. \n",
        "\n",
        "Clique no botão de Play para executar a célula abaixo (ou selecione a célula e aperte Shift+Enter)."
      ]
    },
    {
      "cell_type": "code",
      "metadata": {
        "id": "ZgiZ_RcEtMyU",
        "colab_type": "code",
        "outputId": "2261a0c8-6bf0-4d51-8d86-09271d5086a7",
        "colab": {
          "base_uri": "https://localhost:8080/",
          "height": 34
        }
      },
      "source": [
        "\"Oi Python!\""
      ],
      "execution_count": 0,
      "outputs": [
        {
          "output_type": "execute_result",
          "data": {
            "text/plain": [
              "'Oi Python!'"
            ]
          },
          "metadata": {
            "tags": []
          },
          "execution_count": 3
        }
      ]
    },
    {
      "cell_type": "markdown",
      "metadata": {
        "id": "_D41bZHVtnIF",
        "colab_type": "text"
      },
      "source": [
        ""
      ]
    },
    {
      "cell_type": "markdown",
      "metadata": {
        "id": "kfDBcPestMyZ",
        "colab_type": "text"
      },
      "source": [
        "## Melhorando a conversa com o interpretador\n",
        "\n",
        ">Se o interpretador apenas repete o que eu falo, pra que ele serve? 🤔\n",
        ">*, perguntou um aluno apressado.*\n",
        "\n",
        "O interpretador é mais sagaz do que parece. Teste as células abaixo:"
      ]
    },
    {
      "cell_type": "code",
      "metadata": {
        "id": "J6dy5UILtMya",
        "colab_type": "code",
        "outputId": "8b2afa34-305d-4d30-a45a-9e42d758692b",
        "colab": {
          "base_uri": "https://localhost:8080/",
          "height": 34
        }
      },
      "source": [
        "\"Oi Python\".upper()"
      ],
      "execution_count": 0,
      "outputs": [
        {
          "output_type": "execute_result",
          "data": {
            "text/plain": [
              "'OI PYTHON'"
            ]
          },
          "metadata": {
            "tags": []
          },
          "execution_count": 6
        }
      ]
    },
    {
      "cell_type": "code",
      "metadata": {
        "scrolled": true,
        "id": "2p-hNDJQtMye",
        "colab_type": "code",
        "outputId": "797fe130-09dd-4db8-c681-bda7a75be6a6",
        "colab": {
          "base_uri": "https://localhost:8080/",
          "height": 34
        }
      },
      "source": [
        "\"Oi Python!\".lower()"
      ],
      "execution_count": 0,
      "outputs": [
        {
          "output_type": "execute_result",
          "data": {
            "text/plain": [
              "'oi python!'"
            ]
          },
          "metadata": {
            "tags": []
          },
          "execution_count": 7
        }
      ]
    },
    {
      "cell_type": "code",
      "metadata": {
        "id": "NeCoILkPtMyi",
        "colab_type": "code",
        "outputId": "345ac634-6b55-493e-e263-c76ac8edab82",
        "colab": {
          "base_uri": "https://localhost:8080/",
          "height": 34
        }
      },
      "source": [
        "\"Oi Python!\" + \" Tudo bom?\""
      ],
      "execution_count": 0,
      "outputs": [
        {
          "output_type": "execute_result",
          "data": {
            "text/plain": [
              "'Oi Python! Tudo bom?'"
            ]
          },
          "metadata": {
            "tags": []
          },
          "execution_count": 8
        }
      ]
    },
    {
      "cell_type": "code",
      "metadata": {
        "id": "Hv2f47RAtMym",
        "colab_type": "code",
        "outputId": "6843221e-33e1-4a69-8edd-c544a62ec766",
        "colab": {
          "base_uri": "https://localhost:8080/",
          "height": 34
        }
      },
      "source": [
        "\"Oi Python!\".split()"
      ],
      "execution_count": 0,
      "outputs": [
        {
          "output_type": "execute_result",
          "data": {
            "text/plain": [
              "['Oi', 'Python!']"
            ]
          },
          "metadata": {
            "tags": []
          },
          "execution_count": 9
        }
      ]
    },
    {
      "cell_type": "markdown",
      "metadata": {
        "id": "sQAZBjXBtMyp",
        "colab_type": "text"
      },
      "source": [
        "### Exercícios de fixação"
      ]
    },
    {
      "cell_type": "markdown",
      "metadata": {
        "id": "ygSZh7fqtMyq",
        "colab_type": "text"
      },
      "source": [
        "EF1 - Peça pra o interpretador dizer **\"Bom dia\"** com letras minúsculas. "
      ]
    },
    {
      "cell_type": "code",
      "metadata": {
        "id": "YOUPNs0CtMyr",
        "colab_type": "code",
        "outputId": "5427e2e3-f2c0-44f1-81ee-2db18a7edc00",
        "colab": {
          "base_uri": "https://localhost:8080/",
          "height": 34
        }
      },
      "source": [
        "\"Oi Python\".lower()"
      ],
      "execution_count": 0,
      "outputs": [
        {
          "output_type": "execute_result",
          "data": {
            "text/plain": [
              "'oi python'"
            ]
          },
          "metadata": {
            "tags": []
          },
          "execution_count": 11
        }
      ]
    },
    {
      "cell_type": "markdown",
      "metadata": {
        "id": "a_5-ZN9ctMyu",
        "colab_type": "text"
      },
      "source": [
        "EF2 - Peça pra o interpretador dizer **\"Boa tarde\"** com letras maiúsculas. "
      ]
    },
    {
      "cell_type": "code",
      "metadata": {
        "id": "XkV-5tzrtMyv",
        "colab_type": "code",
        "outputId": "b1c83fe6-3179-43f9-b918-970fa1268512",
        "colab": {
          "base_uri": "https://localhost:8080/",
          "height": 34
        }
      },
      "source": [
        "\"boa tarde\".upper()"
      ],
      "execution_count": 0,
      "outputs": [
        {
          "output_type": "execute_result",
          "data": {
            "text/plain": [
              "'BOA TARDE'"
            ]
          },
          "metadata": {
            "tags": []
          },
          "execution_count": 12
        }
      ]
    },
    {
      "cell_type": "markdown",
      "metadata": {
        "id": "PYSpZTr2tMy0",
        "colab_type": "text"
      },
      "source": [
        "EF3 - Peça pra o interpretador dizer **\"Bom dia ou Boa tarde?\"**, sendo o **\"Bom dia\"** com letras maiúsculas e o **\"boa tarde\"** com letras minúsculas. "
      ]
    },
    {
      "cell_type": "code",
      "metadata": {
        "id": "ndgIHAvTtMy1",
        "colab_type": "code",
        "outputId": "07f2ecd0-1bc5-4594-8aa0-f47922e16681",
        "colab": {
          "base_uri": "https://localhost:8080/",
          "height": 34
        }
      },
      "source": [
        "\"Bom dia \".upper() + \"boa tarde\".lower()"
      ],
      "execution_count": 0,
      "outputs": [
        {
          "output_type": "execute_result",
          "data": {
            "text/plain": [
              "'BOM DIA boa tarde'"
            ]
          },
          "metadata": {
            "tags": []
          },
          "execution_count": 14
        }
      ]
    },
    {
      "cell_type": "markdown",
      "metadata": {
        "id": "fRdH4P9ltMy5",
        "colab_type": "text"
      },
      "source": [
        "### Exercícios complementares"
      ]
    },
    {
      "cell_type": "markdown",
      "metadata": {
        "id": "hEnYh5MctMy6",
        "colab_type": "text"
      },
      "source": [
        "EC1 - O que você acha que a opção `split()` significa para o interpretador? Dica -- pesquise no Google Translate."
      ]
    },
    {
      "cell_type": "markdown",
      "metadata": {
        "id": "A3B3tXottMy7",
        "colab_type": "text"
      },
      "source": [
        "*Escreva sua resposta aqui*"
      ]
    },
    {
      "cell_type": "markdown",
      "metadata": {
        "id": "REvj7k0StMy9",
        "colab_type": "text"
      },
      "source": [
        "A gente vai estudar o `split` com mais calma depois, mas por enquanto vamos ver um pouco sobre números."
      ]
    },
    {
      "cell_type": "markdown",
      "metadata": {
        "id": "-OarXAoYtMy-",
        "colab_type": "text"
      },
      "source": [
        "## Trabalhando com números\n",
        "\n",
        "O interpretador Python também consegue lidar com números e operadores aritméticos, que podem ser usados para construir **expressões aritméticas**. \n",
        "\n",
        "As regras básicas sobre expressões aritméticas em Python são:\n",
        "\n",
        "* Em geral, a precedência dos operadores em Python segue a precedência que conhecemos da matemática. \n",
        "* Assim como na matemática, é possível usar parênteses para mudar a ordem de avaliação de uma expressão.\n",
        "* Caso reste apenas operações de mesma precedência, a expressão passa a ser avaliada da esquerda para a direita.\n",
        "\n",
        "Alguns dos operadores aritméticos disponíveis em Python estão listados abaixo. "
      ]
    },
    {
      "cell_type": "markdown",
      "metadata": {
        "id": "96722VY5tMy_",
        "colab_type": "text"
      },
      "source": [
        "| Símbolo | Operação |\n",
        "|:----:|---|\n",
        "| +  | Adição |\n",
        "| -  | Subtração |\n",
        "| /  | Divisão |\n",
        "| // | Divisão inteira |\n",
        "| %  | Resto |\n",
        "| *  | Multiplicação |\n",
        "| **  | Exponenciação |"
      ]
    },
    {
      "cell_type": "markdown",
      "metadata": {
        "id": "jrD9jui0tMzA",
        "colab_type": "text"
      },
      "source": [
        "Teste as células abaixo:"
      ]
    },
    {
      "cell_type": "code",
      "metadata": {
        "id": "RbjF0hUrtMzC",
        "colab_type": "code",
        "outputId": "2690bf7e-5640-4876-b774-53c42770c7eb",
        "colab": {
          "base_uri": "https://localhost:8080/",
          "height": 34
        }
      },
      "source": [
        "1+2+5"
      ],
      "execution_count": 0,
      "outputs": [
        {
          "output_type": "execute_result",
          "data": {
            "text/plain": [
              "8"
            ]
          },
          "metadata": {
            "tags": []
          },
          "execution_count": 15
        }
      ]
    },
    {
      "cell_type": "code",
      "metadata": {
        "id": "3Ni1QRydtMzF",
        "colab_type": "code",
        "outputId": "ee3a63c7-2510-4f09-afa7-4f43bcdb79f3",
        "colab": {
          "base_uri": "https://localhost:8080/",
          "height": 34
        }
      },
      "source": [
        "2-1"
      ],
      "execution_count": 0,
      "outputs": [
        {
          "output_type": "execute_result",
          "data": {
            "text/plain": [
              "1"
            ]
          },
          "metadata": {
            "tags": []
          },
          "execution_count": 16
        }
      ]
    },
    {
      "cell_type": "code",
      "metadata": {
        "id": "9018xjextMzI",
        "colab_type": "code",
        "outputId": "58c4886c-e7a5-47d0-b8a0-8c7f4e201351",
        "colab": {
          "base_uri": "https://localhost:8080/",
          "height": 34
        }
      },
      "source": [
        "1*2"
      ],
      "execution_count": 0,
      "outputs": [
        {
          "output_type": "execute_result",
          "data": {
            "text/plain": [
              "2"
            ]
          },
          "metadata": {
            "tags": []
          },
          "execution_count": 17
        }
      ]
    },
    {
      "cell_type": "code",
      "metadata": {
        "scrolled": true,
        "id": "0WkxZp3KtMzL",
        "colab_type": "code",
        "outputId": "c0860adf-4ef4-4e54-a6fc-00f259e8f7b7",
        "colab": {
          "base_uri": "https://localhost:8080/",
          "height": 34
        }
      },
      "source": [
        "3/4"
      ],
      "execution_count": 0,
      "outputs": [
        {
          "output_type": "execute_result",
          "data": {
            "text/plain": [
              "0.75"
            ]
          },
          "metadata": {
            "tags": []
          },
          "execution_count": 18
        }
      ]
    },
    {
      "cell_type": "code",
      "metadata": {
        "id": "5Q8nsz8ntMzO",
        "colab_type": "code",
        "outputId": "0f49402e-d9f5-4bcd-fb10-56cf7afe37aa",
        "colab": {
          "base_uri": "https://localhost:8080/",
          "height": 34
        }
      },
      "source": [
        "2 ** 3"
      ],
      "execution_count": 0,
      "outputs": [
        {
          "output_type": "execute_result",
          "data": {
            "text/plain": [
              "8"
            ]
          },
          "metadata": {
            "tags": []
          },
          "execution_count": 19
        }
      ]
    },
    {
      "cell_type": "markdown",
      "metadata": {
        "id": "GcwsG9yVtMzU",
        "colab_type": "text"
      },
      "source": [
        "No entanto, você não deve misturar textos e números:"
      ]
    },
    {
      "cell_type": "code",
      "metadata": {
        "scrolled": true,
        "id": "c38ffORAtMzV",
        "colab_type": "code",
        "outputId": "04d813de-c3d8-4863-b7f6-2549624407e0",
        "colab": {
          "base_uri": "https://localhost:8080/",
          "height": 163
        }
      },
      "source": [
        "\"Este é um texto\" + 3"
      ],
      "execution_count": 0,
      "outputs": [
        {
          "output_type": "error",
          "ename": "TypeError",
          "evalue": "ignored",
          "traceback": [
            "\u001b[0;31m---------------------------------------------------------------------------\u001b[0m",
            "\u001b[0;31mTypeError\u001b[0m                                 Traceback (most recent call last)",
            "\u001b[0;32m<ipython-input-20-85e4d6029825>\u001b[0m in \u001b[0;36m<module>\u001b[0;34m()\u001b[0m\n\u001b[0;32m----> 1\u001b[0;31m \u001b[0;34m\"Este é um texto\"\u001b[0m \u001b[0;34m+\u001b[0m \u001b[0;36m3\u001b[0m\u001b[0;34m\u001b[0m\u001b[0;34m\u001b[0m\u001b[0m\n\u001b[0m",
            "\u001b[0;31mTypeError\u001b[0m: must be str, not int"
          ]
        }
      ]
    },
    {
      "cell_type": "markdown",
      "metadata": {
        "id": "tiJsD_iTtMzY",
        "colab_type": "text"
      },
      "source": [
        "### Exercícios de fixação"
      ]
    },
    {
      "cell_type": "markdown",
      "metadata": {
        "id": "zDr0YL_OtMzY",
        "colab_type": "text"
      },
      "source": [
        "EF4 - Calcule o produto dos números 11 e 12."
      ]
    },
    {
      "cell_type": "code",
      "metadata": {
        "id": "3-_hleSFtMza",
        "colab_type": "code",
        "outputId": "5f152f10-54b0-4f6a-ecb0-6ede18dff90b",
        "colab": {
          "base_uri": "https://localhost:8080/",
          "height": 34
        }
      },
      "source": [
        "11*12"
      ],
      "execution_count": 0,
      "outputs": [
        {
          "output_type": "execute_result",
          "data": {
            "text/plain": [
              "132"
            ]
          },
          "metadata": {
            "tags": []
          },
          "execution_count": 21
        }
      ]
    },
    {
      "cell_type": "markdown",
      "metadata": {
        "id": "Vu_oAQV8tMzg",
        "colab_type": "text"
      },
      "source": [
        "EF5 - Calcule o quadrado do número 16."
      ]
    },
    {
      "cell_type": "code",
      "metadata": {
        "id": "EkL5HRxWtMzj",
        "colab_type": "code",
        "outputId": "167ffa01-1ce6-4dc6-d342-4086970e8c11",
        "colab": {
          "base_uri": "https://localhost:8080/",
          "height": 34
        }
      },
      "source": [
        "16**2\n"
      ],
      "execution_count": 0,
      "outputs": [
        {
          "output_type": "execute_result",
          "data": {
            "text/plain": [
              "256"
            ]
          },
          "metadata": {
            "tags": []
          },
          "execution_count": 22
        }
      ]
    },
    {
      "cell_type": "markdown",
      "metadata": {
        "id": "wR6F46rJtMzn",
        "colab_type": "text"
      },
      "source": [
        "EF6 - Calcule a raiz quadrada de 1024."
      ]
    },
    {
      "cell_type": "code",
      "metadata": {
        "id": "pWbxpZurtMzo",
        "colab_type": "code",
        "outputId": "7fd57393-447a-4cea-8788-03c7adb0128b",
        "colab": {
          "base_uri": "https://localhost:8080/",
          "height": 34
        }
      },
      "source": [
        "import math; math.sqrt(1024)"
      ],
      "execution_count": 0,
      "outputs": [
        {
          "output_type": "execute_result",
          "data": {
            "text/plain": [
              "32.0"
            ]
          },
          "metadata": {
            "tags": []
          },
          "execution_count": 23
        }
      ]
    },
    {
      "cell_type": "markdown",
      "metadata": {
        "id": "gQ8LbiAvtMzq",
        "colab_type": "text"
      },
      "source": [
        "### Exercícios complementares\n",
        "\n",
        "Os operadores // e % trabalham com divisão inteira. Por exemplo, dividir 15 por 10 considerando apenas número inteiros é igual a 1. O resto da divisão é igual a 15 - (10*1), ou seja, 5."
      ]
    },
    {
      "cell_type": "code",
      "metadata": {
        "scrolled": true,
        "id": "isvLhRiFtMzs",
        "colab_type": "code",
        "outputId": "a0c16b37-96b5-4c89-bc60-d8bb24369a7f",
        "colab": {
          "base_uri": "https://localhost:8080/",
          "height": 34
        }
      },
      "source": [
        "15//10"
      ],
      "execution_count": 0,
      "outputs": [
        {
          "output_type": "execute_result",
          "data": {
            "text/plain": [
              "1"
            ]
          },
          "metadata": {
            "tags": []
          },
          "execution_count": 24
        }
      ]
    },
    {
      "cell_type": "code",
      "metadata": {
        "scrolled": true,
        "id": "FJQ8gq_TtMzv",
        "colab_type": "code",
        "outputId": "da3df75b-5492-46fe-dbcd-e4dbafce9533",
        "colab": {
          "base_uri": "https://localhost:8080/",
          "height": 34
        }
      },
      "source": [
        "15%10"
      ],
      "execution_count": 0,
      "outputs": [
        {
          "output_type": "execute_result",
          "data": {
            "text/plain": [
              "5"
            ]
          },
          "metadata": {
            "tags": []
          },
          "execution_count": 25
        }
      ]
    },
    {
      "cell_type": "markdown",
      "metadata": {
        "id": "MHa23Gy6tMzz",
        "colab_type": "text"
      },
      "source": [
        "EC2 - Calcule o resto da divisão de 227 por 20."
      ]
    },
    {
      "cell_type": "code",
      "metadata": {
        "id": "YKE4UC2EtMzz",
        "colab_type": "code",
        "outputId": "f151fa1f-1f11-411a-b388-0e1c2f61f4eb",
        "colab": {
          "base_uri": "https://localhost:8080/",
          "height": 34
        }
      },
      "source": [
        "227%20"
      ],
      "execution_count": 0,
      "outputs": [
        {
          "output_type": "execute_result",
          "data": {
            "text/plain": [
              "7"
            ]
          },
          "metadata": {
            "tags": []
          },
          "execution_count": 26
        }
      ]
    },
    {
      "cell_type": "markdown",
      "metadata": {
        "id": "Tidwowy0tMz3",
        "colab_type": "text"
      },
      "source": [
        "# Valores, nomes e variáveis"
      ]
    },
    {
      "cell_type": "markdown",
      "metadata": {
        "id": "znVDL4bttMz4",
        "colab_type": "text"
      },
      "source": [
        "Em Python, tanto textos como números são chamados de *valores*. \n",
        "\n",
        "Podemos nos referir a valores usando *nomes*. \n",
        "\n",
        ">Em outras linguagens, usa-se o termo **variável** em vez de nome. Vamos adotar este termo aqui por ele ser mais universal.\n",
        "\n",
        "Teste as células abaixo:"
      ]
    },
    {
      "cell_type": "code",
      "metadata": {
        "scrolled": true,
        "id": "NUS-eJurtMz4",
        "colab_type": "code",
        "outputId": "c2b0e00a-d0a2-4209-a1a4-8daa0cd23bc5",
        "colab": {
          "base_uri": "https://localhost:8080/",
          "height": 34
        }
      },
      "source": [
        "x = 2          # qualquer coisa após o # é um comentário\n",
        "y = 5\n",
        "x + y"
      ],
      "execution_count": 0,
      "outputs": [
        {
          "output_type": "execute_result",
          "data": {
            "text/plain": [
              "7"
            ]
          },
          "metadata": {
            "tags": []
          },
          "execution_count": 27
        }
      ]
    },
    {
      "cell_type": "markdown",
      "metadata": {
        "id": "bf6O11BDtMz7",
        "colab_type": "text"
      },
      "source": [
        "Múltiplas variáveis podem estar associadas ao mesmo valor."
      ]
    },
    {
      "cell_type": "code",
      "metadata": {
        "id": "WgoPQbm_tMz8",
        "colab_type": "code",
        "outputId": "e91fa36d-d467-4445-a271-4fa961f1cd07",
        "colab": {
          "base_uri": "https://localhost:8080/",
          "height": 34
        }
      },
      "source": [
        "x = y = 1\n",
        "y"
      ],
      "execution_count": 0,
      "outputs": [
        {
          "output_type": "execute_result",
          "data": {
            "text/plain": [
              "1"
            ]
          },
          "metadata": {
            "tags": []
          },
          "execution_count": 28
        }
      ]
    },
    {
      "cell_type": "code",
      "metadata": {
        "id": "sRgPf_YRtM0A",
        "colab_type": "code",
        "outputId": "6976934c-3706-412c-c4e6-45c0f2e24d06",
        "colab": {
          "base_uri": "https://localhost:8080/",
          "height": 34
        }
      },
      "source": [
        "texto = 'Este é um texto.' # textos podem ser escritos entre aspas simples\n",
        "texto"
      ],
      "execution_count": 0,
      "outputs": [
        {
          "output_type": "execute_result",
          "data": {
            "text/plain": [
              "'Este é um texto.'"
            ]
          },
          "metadata": {
            "tags": []
          },
          "execution_count": 29
        }
      ]
    },
    {
      "cell_type": "code",
      "metadata": {
        "id": "zSjRIKdztM0F",
        "colab_type": "code",
        "outputId": "66d7d611-755f-4ab2-cf27-cbb16ce00177",
        "colab": {
          "base_uri": "https://localhost:8080/",
          "height": 34
        }
      },
      "source": [
        "outro_texto = \"Este é outro texto.\" # textos podem ser escritos entre aspas duplas\n",
        "outro_texto"
      ],
      "execution_count": 0,
      "outputs": [
        {
          "output_type": "execute_result",
          "data": {
            "text/plain": [
              "'Este é outro texto.'"
            ]
          },
          "metadata": {
            "tags": []
          },
          "execution_count": 30
        }
      ]
    },
    {
      "cell_type": "markdown",
      "metadata": {
        "id": "f5k1kdZ3tM0I",
        "colab_type": "text"
      },
      "source": [
        "### Exercícios de fixação\n",
        "\n",
        "Para verificar que seu código está correto, lembre-se de acrescentar uma linha contendo apenas o nome da variável para visualizar o valor associado a ela."
      ]
    },
    {
      "cell_type": "markdown",
      "metadata": {
        "id": "Kq66b6s5tM0J",
        "colab_type": "text"
      },
      "source": [
        "EF7 - Associe uma variável `numero` ao número `10`."
      ]
    },
    {
      "cell_type": "code",
      "metadata": {
        "id": "hReC4OigtM0M",
        "colab_type": "code",
        "outputId": "d1c19778-8af0-44cb-bf1b-839a28388656",
        "colab": {
          "base_uri": "https://localhost:8080/",
          "height": 34
        }
      },
      "source": [
        "x = 10\n",
        "x"
      ],
      "execution_count": 0,
      "outputs": [
        {
          "output_type": "execute_result",
          "data": {
            "text/plain": [
              "10"
            ]
          },
          "metadata": {
            "tags": []
          },
          "execution_count": 31
        }
      ]
    },
    {
      "cell_type": "markdown",
      "metadata": {
        "id": "4lHBqE7ZtM0R",
        "colab_type": "text"
      },
      "source": [
        "EF8 - Associe uma variável `nome` ao texto `Python`."
      ]
    },
    {
      "cell_type": "code",
      "metadata": {
        "id": "Rj6vhc0GtM0R",
        "colab_type": "code",
        "colab": {}
      },
      "source": [
        "texto = \"Python\""
      ],
      "execution_count": 0,
      "outputs": []
    },
    {
      "cell_type": "markdown",
      "metadata": {
        "id": "T-_7fDSotM0U",
        "colab_type": "text"
      },
      "source": [
        "EF9 - Associe uma variável `resto` ao resultado do operação de resto entre `234` e `10`."
      ]
    },
    {
      "cell_type": "code",
      "metadata": {
        "id": "Wp5yt437tM0V",
        "colab_type": "code",
        "outputId": "9ab27c4a-c2b5-42bb-a328-f6ff1409e044",
        "colab": {
          "base_uri": "https://localhost:8080/",
          "height": 34
        }
      },
      "source": [
        "resto = 234%10 \n",
        "resto"
      ],
      "execution_count": 0,
      "outputs": [
        {
          "output_type": "execute_result",
          "data": {
            "text/plain": [
              "4"
            ]
          },
          "metadata": {
            "tags": []
          },
          "execution_count": 33
        }
      ]
    },
    {
      "cell_type": "markdown",
      "metadata": {
        "id": "5U-ZxUUPtM0a",
        "colab_type": "text"
      },
      "source": [
        "EF10 - Associe uma variável `k` ao valor `8`. Associe uma variável `quadrado_k` ao quadrado do valor associado à variável `k`."
      ]
    },
    {
      "cell_type": "code",
      "metadata": {
        "id": "7ZXOOMGJtM0c",
        "colab_type": "code",
        "outputId": "5053e8fc-ff75-4772-e121-cd2f056c4da8",
        "colab": {
          "base_uri": "https://localhost:8080/",
          "height": 34
        }
      },
      "source": [
        "k = 8 \n",
        "quadrado_k = k**2\n",
        "quadrado_k"
      ],
      "execution_count": 0,
      "outputs": [
        {
          "output_type": "execute_result",
          "data": {
            "text/plain": [
              "64"
            ]
          },
          "metadata": {
            "tags": []
          },
          "execution_count": 36
        }
      ]
    },
    {
      "cell_type": "markdown",
      "metadata": {
        "id": "5WeV4ofKtM0f",
        "colab_type": "text"
      },
      "source": [
        "EF11 - Associe uma váriavel `z` ao valor `256`. Associe uma variável `divisao_zk` ao resultado da divisão entre os valores associados às variáveis `z` e `k`."
      ]
    },
    {
      "cell_type": "code",
      "metadata": {
        "id": "lAnefwuotM0g",
        "colab_type": "code",
        "outputId": "a2123867-3183-4b97-9afa-9722263a69bc",
        "colab": {
          "base_uri": "https://localhost:8080/",
          "height": 34
        }
      },
      "source": [
        "k = 8\n",
        "z = 256 \n",
        "divisao_zk = z/k\n",
        "divisao_zk"
      ],
      "execution_count": 0,
      "outputs": [
        {
          "output_type": "execute_result",
          "data": {
            "text/plain": [
              "32.0"
            ]
          },
          "metadata": {
            "tags": []
          },
          "execution_count": 37
        }
      ]
    },
    {
      "cell_type": "markdown",
      "metadata": {
        "id": "46JVhxLrtM0i",
        "colab_type": "text"
      },
      "source": [
        "## Dados informados pelo usuário"
      ]
    },
    {
      "cell_type": "markdown",
      "metadata": {
        "id": "fTOHMIYAtM0j",
        "colab_type": "text"
      },
      "source": [
        "O procedimento `input()` solicita ao usuário dados que podem ser associados a variáveis. É possível personalizar a mensagem de solicitação, como mostrado abaixo."
      ]
    },
    {
      "cell_type": "code",
      "metadata": {
        "id": "hE9tJUhPtM0k",
        "colab_type": "code",
        "outputId": "b9ce29b1-2cf4-4f49-d057-b07fa0afbcde",
        "colab": {
          "base_uri": "https://localhost:8080/",
          "height": 51
        }
      },
      "source": [
        "texto_usuario =  input(\"Diga um valor: \")\n",
        "texto_usuario"
      ],
      "execution_count": 0,
      "outputs": [
        {
          "output_type": "stream",
          "text": [
            "Diga um valor: kk\n"
          ],
          "name": "stdout"
        },
        {
          "output_type": "execute_result",
          "data": {
            "text/plain": [
              "'kk'"
            ]
          },
          "metadata": {
            "tags": []
          },
          "execution_count": 38
        }
      ]
    },
    {
      "cell_type": "markdown",
      "metadata": {
        "id": "-SnMZ4RAtM0n",
        "colab_type": "text"
      },
      "source": [
        "Por padrão, qualquer dado passada pelo usuário será tratado como texto. Para tratá-lo como um valor numérico, você deve usar os procedimentos `int()` ou `float()`, dependendo de serem números inteiros ou reais."
      ]
    },
    {
      "cell_type": "code",
      "metadata": {
        "id": "kjNST4ujtM0o",
        "colab_type": "code",
        "outputId": "475bd2d8-de9e-4552-f37f-ae937a712a42",
        "colab": {
          "base_uri": "https://localhost:8080/",
          "height": 51
        }
      },
      "source": [
        "inteiro = int(input(\"Diga um valor inteiro: \"))\n",
        "inteiro + 1"
      ],
      "execution_count": 0,
      "outputs": [
        {
          "output_type": "stream",
          "text": [
            "Diga um valor inteiro: 5\n"
          ],
          "name": "stdout"
        },
        {
          "output_type": "execute_result",
          "data": {
            "text/plain": [
              "6"
            ]
          },
          "metadata": {
            "tags": []
          },
          "execution_count": 39
        }
      ]
    },
    {
      "cell_type": "code",
      "metadata": {
        "id": "S8taERH_tM0r",
        "colab_type": "code",
        "outputId": "1da53eb4-0f85-4f5f-a10c-1ba55b51f057",
        "colab": {
          "base_uri": "https://localhost:8080/",
          "height": 51
        }
      },
      "source": [
        "real = float(input(\"Diga um valor real: \"))\n",
        "real + 1"
      ],
      "execution_count": 0,
      "outputs": [
        {
          "output_type": "stream",
          "text": [
            "Diga um valor real: 5\n"
          ],
          "name": "stdout"
        },
        {
          "output_type": "execute_result",
          "data": {
            "text/plain": [
              "6.0"
            ]
          },
          "metadata": {
            "tags": []
          },
          "execution_count": 40
        }
      ]
    },
    {
      "cell_type": "markdown",
      "metadata": {
        "id": "9n0BFs7VtM0v",
        "colab_type": "text"
      },
      "source": [
        "### Exercícios de fixação"
      ]
    },
    {
      "cell_type": "markdown",
      "metadata": {
        "id": "9BpT6fRKtM0v",
        "colab_type": "text"
      },
      "source": [
        "EF12 - Solicite ao usuário *seu nome* e o associe a uma variavél chamada `nome`."
      ]
    },
    {
      "cell_type": "code",
      "metadata": {
        "id": "e-dsogVZtM0w",
        "colab_type": "code",
        "outputId": "7d952672-811c-4ef6-cdd4-92f771a27c1c",
        "colab": {
          "base_uri": "https://localhost:8080/",
          "height": 51
        }
      },
      "source": [
        "nome = input(\"digite seu nome: \")\n",
        "nome"
      ],
      "execution_count": 0,
      "outputs": [
        {
          "output_type": "stream",
          "text": [
            "digite seu nome: nome\n"
          ],
          "name": "stdout"
        },
        {
          "output_type": "execute_result",
          "data": {
            "text/plain": [
              "'nome'"
            ]
          },
          "metadata": {
            "tags": []
          },
          "execution_count": 41
        }
      ]
    },
    {
      "cell_type": "markdown",
      "metadata": {
        "id": "qFuF7vUttM00",
        "colab_type": "text"
      },
      "source": [
        "EF13 - Solicite ao usuário *sua idade* e a associe a uma variável chamada `idade`."
      ]
    },
    {
      "cell_type": "code",
      "metadata": {
        "id": "hzJiKSw3tM05",
        "colab_type": "code",
        "outputId": "4b6288d1-2c80-4817-ddfe-5a0ceaa13c56",
        "colab": {
          "base_uri": "https://localhost:8080/",
          "height": 51
        }
      },
      "source": [
        "idade = int(input(\"digite sua idade: \"))\n",
        "idade"
      ],
      "execution_count": 0,
      "outputs": [
        {
          "output_type": "stream",
          "text": [
            "digite sua idade: 15\n"
          ],
          "name": "stdout"
        },
        {
          "output_type": "execute_result",
          "data": {
            "text/plain": [
              "15"
            ]
          },
          "metadata": {
            "tags": []
          },
          "execution_count": 43
        }
      ]
    },
    {
      "cell_type": "markdown",
      "metadata": {
        "id": "GtIT8UyhtM0_",
        "colab_type": "text"
      },
      "source": [
        "EF14 - Solicite ao usuário *sua altura* e a associe a uma variável chamada `altura`."
      ]
    },
    {
      "cell_type": "code",
      "metadata": {
        "id": "EkxFhOmVtM0_",
        "colab_type": "code",
        "outputId": "7f3853db-4c2c-4e04-bdf9-c7e7c5126a5c",
        "colab": {
          "base_uri": "https://localhost:8080/",
          "height": 51
        }
      },
      "source": [
        "altura = float(input(\"digite sua altura: \"))\n",
        "altura"
      ],
      "execution_count": 0,
      "outputs": [
        {
          "output_type": "stream",
          "text": [
            "digite sua altura: 1.86\n"
          ],
          "name": "stdout"
        },
        {
          "output_type": "execute_result",
          "data": {
            "text/plain": [
              "1.86"
            ]
          },
          "metadata": {
            "tags": []
          },
          "execution_count": 44
        }
      ]
    },
    {
      "cell_type": "markdown",
      "metadata": {
        "id": "5Wa6NRQftM1C",
        "colab_type": "text"
      },
      "source": [
        "## Informando dados ao usuário"
      ]
    },
    {
      "cell_type": "markdown",
      "metadata": {
        "id": "DHAEshYJtM1D",
        "colab_type": "text"
      },
      "source": [
        "Assim como é possível receber dados do usuário, também é possível informar dados ao usuário.\n",
        "\n",
        "Para isto, usamos o procedimento `print()`."
      ]
    },
    {
      "cell_type": "code",
      "metadata": {
        "id": "dxLbD52stM1E",
        "colab_type": "code",
        "outputId": "1517a284-dd4a-4651-a032-c745a6632420",
        "colab": {
          "base_uri": "https://localhost:8080/",
          "height": 34
        }
      },
      "source": [
        "print(texto)"
      ],
      "execution_count": 0,
      "outputs": [
        {
          "output_type": "stream",
          "text": [
            "Python\n"
          ],
          "name": "stdout"
        }
      ]
    },
    {
      "cell_type": "markdown",
      "metadata": {
        "id": "JSqX1fj6tM1J",
        "colab_type": "text"
      },
      "source": [
        "É possível informar os valores associados a múltiplas variáveis com uma única chamada ao procedimento `print()`. "
      ]
    },
    {
      "cell_type": "code",
      "metadata": {
        "id": "Z5axtWndtM1K",
        "colab_type": "code",
        "outputId": "0859de88-cd64-43e0-dc76-b268e899c5fd",
        "colab": {
          "base_uri": "https://localhost:8080/",
          "height": 34
        }
      },
      "source": [
        "print(texto, x)"
      ],
      "execution_count": 0,
      "outputs": [
        {
          "output_type": "stream",
          "text": [
            "Python 10\n"
          ],
          "name": "stdout"
        }
      ]
    },
    {
      "cell_type": "markdown",
      "metadata": {
        "id": "H4lIDrtftM1N",
        "colab_type": "text"
      },
      "source": [
        "Também é possível informar textos, valores e o resultado de expressões:"
      ]
    },
    {
      "cell_type": "code",
      "metadata": {
        "id": "ITuoiCgftM1N",
        "colab_type": "code",
        "outputId": "b5ad15fc-0b72-42ed-ed46-7b7662842a26",
        "colab": {
          "base_uri": "https://localhost:8080/",
          "height": 34
        }
      },
      "source": [
        "print(\"Testando\", 3, x + y)"
      ],
      "execution_count": 0,
      "outputs": [
        {
          "output_type": "stream",
          "text": [
            "Testando 3 11\n"
          ],
          "name": "stdout"
        }
      ]
    },
    {
      "cell_type": "markdown",
      "metadata": {
        "id": "qM4pUsLvtM1R",
        "colab_type": "text"
      },
      "source": [
        "### Exercícios de fixação"
      ]
    },
    {
      "cell_type": "markdown",
      "metadata": {
        "id": "CCoEX83ftM1S",
        "colab_type": "text"
      },
      "source": [
        "EF15 - Informe ao usuário **seu nome**."
      ]
    },
    {
      "cell_type": "code",
      "metadata": {
        "id": "MPL1REr-tM1S",
        "colab_type": "code",
        "outputId": "ac956319-7d7f-4b27-f9e4-729618895943",
        "colab": {
          "base_uri": "https://localhost:8080/",
          "height": 34
        }
      },
      "source": [
        "print(\"João Paulo Fonseca Gomes\")"
      ],
      "execution_count": 0,
      "outputs": [
        {
          "output_type": "stream",
          "text": [
            "João Paulo Fonseca Gomes\n"
          ],
          "name": "stdout"
        }
      ]
    },
    {
      "cell_type": "markdown",
      "metadata": {
        "id": "xJ5XyhQetM1V",
        "colab_type": "text"
      },
      "source": [
        "EF16 - Informe ao usuário **sua idade**."
      ]
    },
    {
      "cell_type": "code",
      "metadata": {
        "id": "Kx8WqckXtM1V",
        "colab_type": "code",
        "outputId": "ff0cf679-a12a-42f4-8e59-e8b286f26b51",
        "colab": {
          "base_uri": "https://localhost:8080/",
          "height": 34
        }
      },
      "source": [
        "print(\"20\")"
      ],
      "execution_count": 0,
      "outputs": [
        {
          "output_type": "stream",
          "text": [
            "20\n"
          ],
          "name": "stdout"
        }
      ]
    },
    {
      "cell_type": "markdown",
      "metadata": {
        "id": "CB4hoeJgtM1X",
        "colab_type": "text"
      },
      "source": [
        "EF17 - Informe ao usuário **seu índice de massa corporal (IMC)**. Para isso, solicite ao usuário seu peso."
      ]
    },
    {
      "cell_type": "code",
      "metadata": {
        "id": "aKt0yiRqtM1Y",
        "colab_type": "code",
        "outputId": "32b4c52f-7e77-4d3b-e7d4-8d86e06ecd1d",
        "colab": {
          "base_uri": "https://localhost:8080/",
          "height": 51
        }
      },
      "source": [
        "p = int(input (\"diga seu peso\"))\n",
        "a = 1.75\n",
        "imc = p/(a**2)\n",
        "imc "
      ],
      "execution_count": 0,
      "outputs": [
        {
          "output_type": "stream",
          "text": [
            "diga seu peso555\n"
          ],
          "name": "stdout"
        },
        {
          "output_type": "execute_result",
          "data": {
            "text/plain": [
              "181.22448979591837"
            ]
          },
          "metadata": {
            "tags": []
          },
          "execution_count": 54
        }
      ]
    },
    {
      "cell_type": "markdown",
      "metadata": {
        "id": "jX6m_ji3tM1b",
        "colab_type": "text"
      },
      "source": [
        "## Exercícios do URI"
      ]
    },
    {
      "cell_type": "markdown",
      "metadata": {
        "id": "CsOoxfY-tM1e",
        "colab_type": "text"
      },
      "source": [
        "O URI é um juiz online utilizado em treinamentos para competições de programação.\n",
        "\n",
        "Nesta disciplina, utilizaremos exercícios inspirados na seção **Iniciante**, adaptados para o nosso contexto.\n",
        "\n",
        "Para ver a descrição do exercício em sua versão original do URI, clique no seu número."
      ]
    },
    {
      "cell_type": "markdown",
      "metadata": {
        "id": "TaTiz-dgtM1e",
        "colab_type": "text"
      },
      "source": [
        "[1008](https://www.urionlinejudge.com.br/judge/pt/problems/view/1008) - Um sistema do setor de recursos humanos de uma empresa deve calcular o salário a ser pago para cada funcionário da empresa em função de quantas horas o funcionário trabalhou no mês e de quanto ele recebe por hora trabalhada.\n",
        "\n",
        "Escreva um código Python que leia o nome de um funcionário, seu número de horas trabalhadas, o valor que recebe por hora e calcula seu salário. Em seguida, mostre o nome e o salário do funcionário."
      ]
    },
    {
      "cell_type": "markdown",
      "metadata": {
        "id": "VLE_ROAjtM1f",
        "colab_type": "text"
      },
      "source": [
        "|.| Entrada | Saída |\n",
        "|-|----|---|\n",
        "| *Exemplo 1* | João 100 5.50  | João 550.00 | \n",
        "| *Exemplo 2* | Maria 200 20.50 | Maria 4100.00 |\n",
        "| *Exemplo 3* | Facebookson 145 15.55 | Facebookson 2254.75 |"
      ]
    },
    {
      "cell_type": "code",
      "metadata": {
        "id": "dN7dYqJ-tM1g",
        "colab_type": "code",
        "outputId": "93ef1a14-0522-4486-89e0-849a5dffbde9",
        "colab": {
          "base_uri": "https://localhost:8080/",
          "height": 102
        }
      },
      "source": [
        "nome = input(\"digite o nome do funcionario: \")\n",
        "horas = int(input(\"digite quantas horas foram trabalhadas: \"))\n",
        "honorario = float(input(\"digite o honorario do funcionario: \"))\n",
        "salario = horas * honorario\n",
        "print (nome) \n",
        "print (salario)"
      ],
      "execution_count": 0,
      "outputs": [
        {
          "output_type": "stream",
          "text": [
            "digite o nome do funcionario: Joao\n",
            "digite quantas horas foram trabalhadas: 15\n",
            "digite o honorario do funcionario5.30\n",
            "Joao\n",
            "79.5\n"
          ],
          "name": "stdout"
        }
      ]
    },
    {
      "cell_type": "markdown",
      "metadata": {
        "id": "j-jDnIw1tM1i",
        "colab_type": "text"
      },
      "source": [
        "[1009](https://www.urionlinejudge.com.br/judge/pt/problems/view/1009) - No caso de empresas do setor de comércio, a remuneração mensal de cada vendedor é composta por um salário fixo mais uma bonificação proporcional às vendas efetuadas pelo vendedor naquele mês.\n",
        "\n",
        "Escreva um código Python que leia o nome de um vendedor, o seu salário fixo e o total de vendas efetuadas por ele no mês (em dinheiro). Sabendo que este vendedor ganha 15% de comissão sobre suas vendas efetuadas, informe o total que ele deverá receber no final do mês."
      ]
    },
    {
      "cell_type": "markdown",
      "metadata": {
        "id": "Bgz9dnRRtM1i",
        "colab_type": "text"
      },
      "source": [
        "|.| Entrada | Saída |\n",
        "|-|----|---|\n",
        "| *Exemplo 1* | João 500 1230.30  | João 684.54 | \n",
        "| *Exemplo 2* | Pedro 700 0.00 | Pedro 700.00 |\n",
        "| *Exemplo 3* | Mangojata 1700 1230.50 | Mangojata 1884.58 |"
      ]
    },
    {
      "cell_type": "code",
      "metadata": {
        "id": "HzgAzSG9tM1j",
        "colab_type": "code",
        "outputId": "3ae70eee-465a-444b-f02b-6ac085003bcd",
        "colab": {
          "base_uri": "https://localhost:8080/",
          "height": 85
        }
      },
      "source": [
        "nomev = input(\"digite o nome do vendedor: \")\n",
        "salario_fixo = int(input(\"digite o salario fixo: \"))\n",
        "vendas = float(input(\"digite o montante das vendas mensais: \"))\n",
        "salario_final = salario_fixo + (vendas * 0.15)\n",
        "print (salario_final)\n"
      ],
      "execution_count": 0,
      "outputs": [
        {
          "output_type": "stream",
          "text": [
            "digite o nome do vendedor: joao\n",
            "digite o salario fixo: 2000\n",
            "digite o montante das vendas mensais: 250\n",
            "2037.5\n"
          ],
          "name": "stdout"
        }
      ]
    },
    {
      "cell_type": "markdown",
      "metadata": {
        "id": "vTXOF_mltM1r",
        "colab_type": "text"
      },
      "source": [
        "[1010](https://www.urionlinejudge.com.br/judge/pt/problems/view/1010) - Outro tipo de sistema utilizado no setor de comércio é o sistema de frente de loja, que calcula o total de uma venda baseado nos itens adquiridos, suas quantidades e seus valores unitários.\n",
        "\n",
        "Escreva um código Python que leia as informações de dois produtos adquiridos em uma compra e informe o valor a ser pago. Para cada produto, leia seu código, sua quantidade e seu valor unitário."
      ]
    },
    {
      "cell_type": "markdown",
      "metadata": {
        "id": "-oaCPi51tM1r",
        "colab_type": "text"
      },
      "source": [
        "|.| Entrada | Saída |\n",
        "|-|----|---|\n",
        "| *Exemplo 1* | 12 1 5.30 <br> 16 2 5.10 | VALOR A PAGAR: 15.50 |\n",
        "| *Exemplo 2* | 13 2 15.30 <br> 161 4 5.20 | VALOR A PAGAR: 51.40 |\n",
        "| *Exemplo 3* | 1 1 15.10 <br> 2 1 15.10 | VALOR A PAGAR: 30.20 |"
      ]
    },
    {
      "cell_type": "code",
      "metadata": {
        "id": "kQuTI2XPtM1s",
        "colab_type": "code",
        "colab": {}
      },
      "source": [
        ""
      ],
      "execution_count": 0,
      "outputs": []
    },
    {
      "cell_type": "markdown",
      "metadata": {
        "id": "boh0VGW1tM1u",
        "colab_type": "text"
      },
      "source": [
        "[1018](https://www.urionlinejudge.com.br/judge/pt/problems/view/1018) - Sistemas de frente de loja também devem auxiliar vendedores a dar trocos. Por simplicidade, vamos considerar primeiro apenas trocos inteiros, que podem ser dados usando apenas cédulas.\n",
        "\n",
        "Escreva um código Python que leia um valor de troco e informe quantas cédulas de cada valor devem ser entregues pelo vendedor ao cliente.\n",
        "\n",
        "**Obs.:** Considere que ainda existem notas de R$ 1,00."
      ]
    },
    {
      "cell_type": "markdown",
      "metadata": {
        "id": "buRZE8pQtM1v",
        "colab_type": "text"
      },
      "source": [
        "|.| Entrada | Saída |\n",
        "|-|----|---|\n",
        "| *Exemplo 1* | 576 | 5 nota(s) de 100,00 <br /> 1 nota(s) de 50,00 <br /> 1 nota(s) de 20,00 <br /> 0 nota(s) de 10,00 <br /> 1 nota(s) de 5,00  <br /> 0 nota(s) de 2,00  <br /> 1 nota(s) de 1,00 |\n",
        "| *Exemplo 2* | 11257 | 112 nota(s) de 100,00 <br /> 1 nota(s) de 50,00 <br /> 0 nota(s) de 20,00 <br /> 0 nota(s) de 10,00 <br /> 1 nota(s) de 5,00 <br /> 1 nota(s) de 2,00 <br /> 0 nota(s) de 1,00 |\n",
        "| *Exemplo 3* | 503 | 5 nota(s) de 100,00 <br /> 0 nota(s) de 50,00 <br /> 0 nota(s) de 20,00 <br /> 0 nota(s) de 10,00 <br /> 0 nota(s) de 5,00 <br /> 1 nota(s) de 2,00 <br /> 1 nota(s) de 1,00 |"
      ]
    },
    {
      "cell_type": "code",
      "metadata": {
        "scrolled": true,
        "id": "t4v6OakbtM1w",
        "colab_type": "code",
        "colab": {}
      },
      "source": [
        ""
      ],
      "execution_count": 0,
      "outputs": []
    },
    {
      "cell_type": "markdown",
      "metadata": {
        "id": "sVvES0sptM1y",
        "colab_type": "text"
      },
      "source": [
        "[1021](https://www.urionlinejudge.com.br/judge/pt/problems/view/1021) - Agora vamos voltar ao mundo real, onde trocos podem precisar utilizar cédulas e moedas.\n",
        "\n",
        "Escreva um código Python que leia um valor de troco e informe quantas cédulas e moedas de cada valor devem ser entregues pelo vendedor ao cliente.\n",
        "\n",
        "**Obs.:** Considere que ainda existem moedas de R$ 0,01."
      ]
    },
    {
      "cell_type": "markdown",
      "metadata": {
        "id": "QiuwwJfYtM1z",
        "colab_type": "text"
      },
      "source": [
        "|.| Entrada | Saída |\n",
        "|-|----|---|\n",
        "| *Exemplo 1* | 576.73 | NOTAS: <br /> 5 nota(s) de 100,00 <br /> 1 nota(s) de 50,00 <br /> 1 nota(s) de 20,00 <br /> 0 nota(s) de 10,00 <br /> 1 nota(s) de 5,00  <br /> 0 nota(s) de 2,00  <br /> MOEDAS: <br /> 1 moeda(s) de 1,00 <br /> 1 moeda(s) de 0,50 <br /> 0 moeda(s) de 0,25 <br /> 2 moeda(s) de 0,10 <br /> 0 moeda(s) de 0,05 <br /> 3 moeda(s) de 0,01 |\n",
        "| *Exemplo 2* | 4.00 | NOTAS: <br /> 0 nota(s) de 100,00 <br /> 0 nota(s) de 50,00 <br /> 0 nota(s) de 20,00 <br /> 0 nota(s) de 10,00 <br /> 0 nota(s) de 5,00  <br /> 2 nota(s) de 2,00 <br /> MOEDAS: <br /> 0 moeda(s) de 1,00 <br /> 0 moeda(s) de 0,50 <br /> 0 moeda(s) de 0,25 <br /> 0 moeda(s) de 0,10 <br /> 0 moeda(s) de 0,05 <br /> 0 moeda(s) de 0,01 |\n",
        "| *Exemplo 3* | 91.01 | NOTAS: <br /> 0 nota(s) de 100,00 <br /> 1 nota(s) de 50,00 <br /> 2 nota(s) de 20,00 <br /> 0 nota(s) de 10,00 <br /> 0 nota(s) de 5,00  <br /> 0 nota(s) de 2,00 <br /> MOEDAS: <br /> 1 moeda(s) de 1,00 <br /> 0 moeda(s) de 0,50 <br /> 0 moeda(s) de 0,25 <br /> 0 moeda(s) de 0,10 <br /> 0 moeda(s) de 0,05 <br /> 1 moeda(s) de 0,01 |"
      ]
    },
    {
      "cell_type": "code",
      "metadata": {
        "id": "IMv1BUbgtM10",
        "colab_type": "code",
        "colab": {}
      },
      "source": [
        ""
      ],
      "execution_count": 0,
      "outputs": []
    },
    {
      "cell_type": "markdown",
      "metadata": {
        "id": "EM0TS3A9tM13",
        "colab_type": "text"
      },
      "source": [
        "[1019](https://www.urionlinejudge.com.br/judge/pt/problems/view/1019) - Sistemas de frente de loja também precisam registrar a data e o horário das vendas. \n",
        "\n",
        "Computadores normalmente armazenam datas utilizando uma única unidade de tempo, convertendo para o formato de apresentação desejado quando necessário. Por simplicidade, considere neste exercício que o dado informado representa apenas o horário da venda.\n",
        "\n",
        "Escreva um código Python que leia um valor em segundos e o converta para o formato *horas:minutos:segundos*.\n",
        "\n",
        "**Dica 1 --** a opção sep do procedimento print() permite configurar o caracter de separação entre as diferentes partes de uma impressão, como no exemplo abaixo."
      ]
    },
    {
      "cell_type": "code",
      "metadata": {
        "scrolled": true,
        "id": "E6GpoNbUtM14",
        "colab_type": "code",
        "colab": {}
      },
      "source": [
        "print(10,33,51,sep=\":\")"
      ],
      "execution_count": 0,
      "outputs": []
    },
    {
      "cell_type": "markdown",
      "metadata": {
        "id": "iJ1aVbZjtM17",
        "colab_type": "text"
      },
      "source": [
        "**Dica 2 --** é possível utilizar o procedimento print para impressão formatada. Pesquise o funcionamento da máscara de formatação abaixo:"
      ]
    },
    {
      "cell_type": "code",
      "metadata": {
        "id": "_6JnIzMztM17",
        "colab_type": "code",
        "colab": {}
      },
      "source": [
        "print(\"%02d:%02d:%02d\" % (9,33,51))"
      ],
      "execution_count": 0,
      "outputs": []
    },
    {
      "cell_type": "markdown",
      "metadata": {
        "id": "8C_zvxz3tM1-",
        "colab_type": "text"
      },
      "source": [
        "|.| Entrada | Saída |\n",
        "|-|----|---|\n",
        "| *Exemplo 1* | 556  | 00:09:16 | \n",
        "| *Exemplo 2* | 1 | 00:00:01 |\n",
        "| *Exemplo 3* | 86153 | 23:55:53 |"
      ]
    }
  ]
}